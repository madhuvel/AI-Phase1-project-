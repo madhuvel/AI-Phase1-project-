{
  "nbformat": 4,
  "nbformat_minor": 0,
  "metadata": {
    "colab": {
      "provenance": [],
      "mount_file_id": "1brsgsLi78ky7eaPbTziiQv6AFRQTnpFf",
      "authorship_tag": "ABX9TyP/CVMH8omxozhp/or5BvnQ",
      "include_colab_link": true
    },
    "kernelspec": {
      "name": "python3",
      "display_name": "Python 3"
    },
    "language_info": {
      "name": "python"
    }
  },
  "cells": [
    {
      "cell_type": "markdown",
      "metadata": {
        "id": "view-in-github",
        "colab_type": "text"
      },
      "source": [
        "<a href=\"https://colab.research.google.com/github/madhuvel/AI-Phase1-project_1/blob/main/Untitled2.ipynb\" target=\"_parent\"><img src=\"https://colab.research.google.com/assets/colab-badge.svg\" alt=\"Open In Colab\"/></a>"
      ]
    },
    {
      "cell_type": "code",
      "execution_count": null,
      "metadata": {
        "id": "r8sKZTTZ0Owo"
      },
      "outputs": [],
      "source": [
        "from google.colab import drive\n",
        "drive.mount('/content/drive/MyDrive')\n",
        "\n",
        "# Access the dataset\n",
        "import pandas as pd\n",
        "\n",
        "# Assuming your file is in the 'My Drive' folder in Google Drive\n",
        "path_to_file1 = '/content/drive/MyDrive/Fake.csv'\n",
        "path_to_file2 = '/content/drive/MyDrive/True.csv'\n",
        "\n",
        "\n",
        "# Load the dataset into a Pandas DataFrame\n",
        "fake_data= pd.read_csv(path_to_file1)\n",
        "true_data= pd.read_csv(path_to_file2)\n",
        "\n",
        "\n",
        "\n",
        "print(fake_data.head())\n",
        "print(true_data.head())\n",
        "true_data['label1'] = 1\n",
        "fake_data['label2'] = 0\n"
      ]
    },
    {
      "cell_type": "code",
      "source": [
        "merged_data = pd.concat([true_data,fake_data])\n",
        "merged_data.head()"
      ],
      "metadata": {
        "id": "I6zG9jcM0f6k"
      },
      "execution_count": null,
      "outputs": []
    },
    {
      "cell_type": "code",
      "source": [
        "# Describe the dataset\n",
        "merged_data.describe()"
      ],
      "metadata": {
        "id": "j6v_ISc40j36"
      },
      "execution_count": null,
      "outputs": []
    },
    {
      "cell_type": "code",
      "source": [
        "#data_info\n",
        "merged_data.info()"
      ],
      "metadata": {
        "id": "vpY_XdQ60k7L"
      },
      "execution_count": null,
      "outputs": []
    },
    {
      "cell_type": "code",
      "source": [
        "# Check for null values in the dataset\n",
        "null_values = merged_data.isnull().sum()\n",
        "\n",
        "# Display the null values\n",
        "print(\"Null values in the dataset:\")\n",
        "print(null_values)"
      ],
      "metadata": {
        "id": "G14QB1zd0rj0"
      },
      "execution_count": null,
      "outputs": []
    },
    {
      "cell_type": "code",
      "source": [
        "merged_data['label2']"
      ],
      "metadata": {
        "id": "cO-PgxHX0xTQ"
      },
      "execution_count": null,
      "outputs": []
    },
    {
      "cell_type": "code",
      "source": [
        "#To view the columns in the dataset\n",
        "print(\"Columns in the dataset:\")\n",
        "print(merged_data.columns)"
      ],
      "metadata": {
        "id": "jqXuwoJh00Hu"
      },
      "execution_count": null,
      "outputs": []
    },
    {
      "cell_type": "code",
      "source": [
        "merged_data['fake/true'] = 0\n",
        "merged_data.head()"
      ],
      "metadata": {
        "id": "uf-YxtRG05qC"
      },
      "execution_count": null,
      "outputs": []
    },
    {
      "cell_type": "code",
      "source": [
        "from numpy import NaN\n",
        "import pandas as pd\n",
        "true=1\n",
        "fake=0\n",
        "no_value= NaN\n",
        "for index, row in merged_data.iterrows():\n",
        "  value1 = row['label1']\n",
        "  value2 = row['label2']\n",
        "  if value1== 1 and value2== NaN:\n",
        "    merged_data.loc[index,fake/true] = 1\n",
        "  if value2== 0 and value1== NaN:\n",
        "    merged_data.loc[index,fake/true] = 0\n",
        "merged_data.head()"
      ],
      "metadata": {
        "id": "omkY0lP-0-oG"
      },
      "execution_count": null,
      "outputs": []
    },
    {
      "cell_type": "code",
      "source": [
        "# Describe the dataset\n",
        "merged_data.describe()"
      ],
      "metadata": {
        "id": "bSAOqZAp1ORd"
      },
      "execution_count": null,
      "outputs": []
    },
    {
      "cell_type": "code",
      "source": [
        "# Check for null values in the dataset\n",
        "null_values = merged_data.isnull().sum()\n",
        "\n",
        "# Display the null values\n",
        "print(\"Null values in the dataset:\")\n",
        "print(null_values)"
      ],
      "metadata": {
        "id": "fuSNrze31VZK"
      },
      "execution_count": null,
      "outputs": []
    },
    {
      "cell_type": "code",
      "source": [
        "column_name_to_remove = ['label1', 'label2','subject','title','date']\n",
        "merged_data.drop(column_name_to_remove, axis=1, inplace=True)\n"
      ],
      "metadata": {
        "id": "E0G8HgRb1aD-"
      },
      "execution_count": null,
      "outputs": []
    },
    {
      "cell_type": "code",
      "source": [
        "#To view the columns in the dataset\n",
        "print(\"Columns in the dataset:\")\n",
        "print(merged_data.columns)"
      ],
      "metadata": {
        "id": "JCHP5nFU1dCp"
      },
      "execution_count": null,
      "outputs": []
    },
    {
      "cell_type": "code",
      "source": [
        "from nltk.corpus import stopwords\n",
        "from nltk.stem.porter import PorterStemmer\n",
        "import re\n",
        "port_stem=PorterStemmer()\n",
        "port_stem"
      ],
      "metadata": {
        "id": "ouvkCLd-1g2n"
      },
      "execution_count": null,
      "outputs": []
    },
    {
      "cell_type": "code",
      "source": [
        "def stemming(content):\n",
        "    con=re.sub('[^a-zA-Z]', ' ', content)\n",
        "    con=con.lower()\n",
        "    con=con.split()\n",
        "    con=[port_stem.stem(word) for word in con if not word in stopwords.words('english')]\n",
        "    con=' '.join(con)\n",
        "    return con"
      ],
      "metadata": {
        "id": "vA8Lvz7W1jw_"
      },
      "execution_count": null,
      "outputs": []
    },
    {
      "cell_type": "code",
      "source": [
        "import nltk\n",
        "nltk.download('stopwords')\n",
        "merged_data['text']= merged_data['text'].apply(stemming)\n"
      ],
      "metadata": {
        "id": "cqc7lbSb1nxk"
      },
      "execution_count": null,
      "outputs": []
    },
    {
      "cell_type": "code",
      "source": [
        "x=merged_data['text']"
      ],
      "metadata": {
        "id": "ywuV9-rr11_T"
      },
      "execution_count": null,
      "outputs": []
    },
    {
      "cell_type": "code",
      "source": [
        "y=merged_data['fake/true']"
      ],
      "metadata": {
        "id": "86O_eJXu15Ly"
      },
      "execution_count": null,
      "outputs": []
    },
    {
      "cell_type": "code",
      "source": [
        "y.shape"
      ],
      "metadata": {
        "id": "Xvn_AozC180G"
      },
      "execution_count": null,
      "outputs": []
    },
    {
      "cell_type": "code",
      "source": [
        "from sklearn.model_selection import train_test_split"
      ],
      "metadata": {
        "id": "th3TkJv32G2U"
      },
      "execution_count": null,
      "outputs": []
    },
    {
      "cell_type": "code",
      "source": [
        "x_train , x_test , y_train, y_test = train_test_split(x, y, test_size=0.20)"
      ],
      "metadata": {
        "id": "bPbHwKvq2shc"
      },
      "execution_count": null,
      "outputs": []
    },
    {
      "cell_type": "code",
      "source": [
        "from sklearn.feature_extraction.text import TfidfVectorizer"
      ],
      "metadata": {
        "id": "s4i84fqv2xep"
      },
      "execution_count": null,
      "outputs": []
    },
    {
      "cell_type": "code",
      "source": [
        "vect=TfidfVectorizer()"
      ],
      "metadata": {
        "id": "ayqHyHe72KoA"
      },
      "execution_count": null,
      "outputs": []
    },
    {
      "cell_type": "code",
      "source": [
        "x_train=vect.fit_transform(x_train)\n",
        "x_test=vect.transform(x_test)"
      ],
      "metadata": {
        "id": "WbDLm64v20JK"
      },
      "execution_count": null,
      "outputs": []
    },
    {
      "cell_type": "code",
      "source": [
        "x_test.shape"
      ],
      "metadata": {
        "id": "QEtBSJxw24R8"
      },
      "execution_count": null,
      "outputs": []
    },
    {
      "cell_type": "code",
      "source": [
        "from sklearn.tree import DecisionTreeClassifier"
      ],
      "metadata": {
        "id": "djJLVJ1T27og"
      },
      "execution_count": null,
      "outputs": []
    },
    {
      "cell_type": "code",
      "source": [
        "model=DecisionTreeClassifier()\n"
      ],
      "metadata": {
        "id": "9qXoBENz2_2f"
      },
      "execution_count": null,
      "outputs": []
    },
    {
      "cell_type": "code",
      "source": [
        "model.fit(x_train, y_train)"
      ],
      "metadata": {
        "id": "fQwv6Pqm3eET"
      },
      "execution_count": null,
      "outputs": []
    },
    {
      "cell_type": "code",
      "source": [
        "prediction=model.predict(x_test)"
      ],
      "metadata": {
        "id": "iCVIp4Nv3g3d"
      },
      "execution_count": null,
      "outputs": []
    },
    {
      "cell_type": "code",
      "source": [
        "prediction"
      ],
      "metadata": {
        "id": "6PIBaBGV3j2J"
      },
      "execution_count": null,
      "outputs": []
    },
    {
      "cell_type": "code",
      "source": [
        "model.score(x_test, y_test)"
      ],
      "metadata": {
        "id": "uLxLtbP33n3v"
      },
      "execution_count": null,
      "outputs": []
    },
    {
      "cell_type": "code",
      "source": [
        "#importing pickel library\n",
        "import pickle"
      ],
      "metadata": {
        "id": "vdnV5HzO379F"
      },
      "execution_count": null,
      "outputs": []
    },
    {
      "cell_type": "code",
      "source": [
        "pickle.dump(vect, open('vector.pkl', 'wb'))"
      ],
      "metadata": {
        "id": "UbIyIjYf4Kya"
      },
      "execution_count": null,
      "outputs": []
    },
    {
      "cell_type": "code",
      "source": [
        "pickle.dump(model, open('model.pkl', 'wb'))\n"
      ],
      "metadata": {
        "id": "dnCQUG1E4Rud"
      },
      "execution_count": null,
      "outputs": []
    },
    {
      "cell_type": "code",
      "source": [
        "vector_form=pickle.load(open('vector.pkl', 'rb'))"
      ],
      "metadata": {
        "id": "HwwBT6AP4ViR"
      },
      "execution_count": null,
      "outputs": []
    },
    {
      "cell_type": "code",
      "source": [
        "load_model=pickle.load(open('model.pkl', 'rb'))"
      ],
      "metadata": {
        "id": "m6pmWVZk4eFc"
      },
      "execution_count": null,
      "outputs": []
    },
    {
      "cell_type": "code",
      "source": [
        "def fake_news(news):\n",
        "    news=stemming(news)\n",
        "    input_data=[news]\n",
        "    vector_form1=vector_form.transform(input_data)\n",
        "    prediction = load_model.predict(vector_form1)\n",
        "    return prediction"
      ],
      "metadata": {
        "id": "O9ATBwqR4jmq"
      },
      "execution_count": null,
      "outputs": []
    },
    {
      "cell_type": "code",
      "source": [
        "val=fake_news(\"\"\"In these trying times, Jackie Mason is the Voice of Reason. [In this week’s exclusive clip for Breitbart News, Jackie discusses the looming threat of North Korea, and explains how President Donald Trump could win the support of the Hollywood left if the U. S. needs to strike first.  “If he decides to bomb them, the whole country will be behind him, because everybody will realize he had no choice and that was the only thing to do,” Jackie says. “Except the Hollywood left. They’ll get nauseous. ” “[Trump] could win the left over, they’ll fall in love with him in a minute. If he bombed them for a better reason,” Jackie explains. “Like if they have no transgender toilets. ” Jackie also says it’s no surprise that Hollywood celebrities didn’t support Trump’s strike on a Syrian airfield this month. “They were infuriated,” he says. “Because it might only save lives. That doesn’t mean anything to them. If it only saved the environment, or climate change! They’d be the happiest people in the world. ” Still, Jackie says he’s got nothing against Hollywood celebs. They’ve got a tough life in this country. Watch Jackie’s latest clip above.   Follow Daniel Nussbaum on Twitter: @dznussbaum \"\"\")\n",
        "if val==[0]:\n",
        "    print('reliable')\n",
        "else:\n",
        "    print('unreliable')"
      ],
      "metadata": {
        "id": "qSth5J454n55"
      },
      "execution_count": null,
      "outputs": []
    }
  ]
}